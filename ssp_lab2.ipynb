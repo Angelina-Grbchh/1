{
 "cells": [
  {
   "cell_type": "markdown",
   "metadata": {},
   "source": [
    "\n",
    "<p align=\"center\"><strong>Спеціальні розділи програмування</strong></p>"
   ]
  },
  {
   "cell_type": "markdown",
   "metadata": {},
   "source": [
    "<p align=\"center\">Лаболаторна робота №2</p>"
   ]
  },
  {
   "cell_type": "markdown",
   "metadata": {},
   "source": [
    "# Item 2"
   ]
  },
  {
   "cell_type": "code",
   "execution_count": 1,
   "metadata": {},
   "outputs": [
    {
     "name": "stdout",
     "output_type": "stream",
     "text": [
      "Дані для області 1 збережені у файл: vhi_ID_1_03112024183918.csv\n",
      "Дані для області 2 збережені у файл: vhi_ID_2_03112024183919.csv\n",
      "Дані для області 3 збережені у файл: vhi_ID_3_03112024183920.csv\n",
      "Дані для області 4 збережені у файл: vhi_ID_4_03112024183921.csv\n",
      "Дані для області 5 збережені у файл: vhi_ID_5_03112024183921.csv\n",
      "Дані для області 6 збережені у файл: vhi_ID_6_03112024183922.csv\n",
      "Дані для області 7 збережені у файл: vhi_ID_7_03112024183923.csv\n",
      "Дані для області 8 збережені у файл: vhi_ID_8_03112024183924.csv\n",
      "Дані для області 9 збережені у файл: vhi_ID_9_03112024183925.csv\n",
      "Дані для області 10 збережені у файл: vhi_ID_10_03112024183926.csv\n",
      "Дані для області 11 збережені у файл: vhi_ID_11_03112024183927.csv\n",
      "Дані для області 12 збережені у файл: vhi_ID_12_03112024183927.csv\n",
      "Дані для області 13 збережені у файл: vhi_ID_13_03112024183928.csv\n",
      "Дані для області 14 збережені у файл: vhi_ID_14_03112024183929.csv\n",
      "Дані для області 15 збережені у файл: vhi_ID_15_03112024183930.csv\n",
      "Дані для області 16 збережені у файл: vhi_ID_16_03112024183931.csv\n",
      "Дані для області 17 збережені у файл: vhi_ID_17_03112024183932.csv\n",
      "Дані для області 18 збережені у файл: vhi_ID_18_03112024183933.csv\n",
      "Дані для області 19 збережені у файл: vhi_ID_19_03112024183933.csv\n",
      "Дані для області 20 збережені у файл: vhi_ID_20_03112024183934.csv\n",
      "Дані для області 21 збережені у файл: vhi_ID_21_03112024183935.csv\n",
      "Дані для області 22 збережені у файл: vhi_ID_22_03112024183936.csv\n",
      "Дані для області 23 збережені у файл: vhi_ID_23_03112024183937.csv\n",
      "Дані для області 24 збережені у файл: vhi_ID_24_03112024183938.csv\n",
      "Дані для області 25 збережені у файл: vhi_ID_25_03112024183938.csv\n"
     ]
    }
   ],
   "source": [
    "import urllib.request\n",
    "from datetime import datetime\n",
    "\n",
    "def download_vhi_data(province_id):\n",
    "    url = f'https://www.star.nesdis.noaa.gov/smcd/emb/vci/VH/get_TS_admin.php?country=UKR&provinceID={province_id}&year1=1981&year2=2024&type=Mean'\n",
    "    \n",
    "    now = datetime.now()\n",
    "    date_and_time = now.strftime(\"%d%m%Y%H%M%S\")\n",
    "    \n",
    "    response = urllib.request.urlopen(url)\n",
    "    data = response.read()\n",
    "\n",
    "    filename = f'vhi_ID_{province_id}_{date_and_time}.csv'\n",
    "    with open(filename, 'wb') as file:\n",
    "        file.write(data)\n",
    "\n",
    "    print(f\"Дані для області {province_id} збережені у файл: {filename}\")\n",
    "\n",
    "for province_id in range(1, 26):\n",
    "     download_vhi_data(province_id)\n"
   ]
  },
  {
   "cell_type": "markdown",
   "metadata": {},
   "source": [
    "# Item 3"
   ]
  },
  {
   "cell_type": "code",
   "execution_count": 2,
   "metadata": {},
   "outputs": [
    {
     "ename": "FileNotFoundError",
     "evalue": "[WinError 3] The system cannot find the path specified: 'C:\\\\Users\\\\angel\\\\OneDrive\\\\Робочий стіл\\\\123\\\\lab_2'",
     "output_type": "error",
     "traceback": [
      "\u001b[1;31m---------------------------------------------------------------------------\u001b[0m",
      "\u001b[1;31mFileNotFoundError\u001b[0m                         Traceback (most recent call last)",
      "Cell \u001b[1;32mIn[2], line 34\u001b[0m\n\u001b[0;32m     31\u001b[0m     \u001b[38;5;28;01mreturn\u001b[39;00m combined_data\n\u001b[0;32m     33\u001b[0m directory \u001b[38;5;241m=\u001b[39m \u001b[38;5;124mr\u001b[39m\u001b[38;5;124m'\u001b[39m\u001b[38;5;124mC:\u001b[39m\u001b[38;5;124m\\\u001b[39m\u001b[38;5;124mUsers\u001b[39m\u001b[38;5;124m\\\u001b[39m\u001b[38;5;124mangel\u001b[39m\u001b[38;5;124m\\\u001b[39m\u001b[38;5;124mOneDrive\u001b[39m\u001b[38;5;124m\\\u001b[39m\u001b[38;5;124mРобочий стіл\u001b[39m\u001b[38;5;124m\\\u001b[39m\u001b[38;5;124m123\u001b[39m\u001b[38;5;124m\\\u001b[39m\u001b[38;5;124mlab_2\u001b[39m\u001b[38;5;124m'\u001b[39m\n\u001b[1;32m---> 34\u001b[0m vhi_data \u001b[38;5;241m=\u001b[39m \u001b[43mload_vhi_data_from_directory\u001b[49m\u001b[43m(\u001b[49m\u001b[43mdirectory\u001b[49m\u001b[43m)\u001b[49m\n\u001b[0;32m     37\u001b[0m \u001b[38;5;28mprint\u001b[39m(vhi_data\u001b[38;5;241m.\u001b[39mtail())\n",
      "Cell \u001b[1;32mIn[2], line 8\u001b[0m, in \u001b[0;36mload_vhi_data_from_directory\u001b[1;34m(directory_path)\u001b[0m\n\u001b[0;32m      4\u001b[0m columns \u001b[38;5;241m=\u001b[39m [\u001b[38;5;124m'\u001b[39m\u001b[38;5;124mYear\u001b[39m\u001b[38;5;124m'\u001b[39m, \u001b[38;5;124m'\u001b[39m\u001b[38;5;124mWeek\u001b[39m\u001b[38;5;124m'\u001b[39m, \u001b[38;5;124m'\u001b[39m\u001b[38;5;124mSMN\u001b[39m\u001b[38;5;124m'\u001b[39m, \u001b[38;5;124m'\u001b[39m\u001b[38;5;124mSMT\u001b[39m\u001b[38;5;124m'\u001b[39m, \u001b[38;5;124m'\u001b[39m\u001b[38;5;124mVCI\u001b[39m\u001b[38;5;124m'\u001b[39m, \u001b[38;5;124m'\u001b[39m\u001b[38;5;124mTCI\u001b[39m\u001b[38;5;124m'\u001b[39m, \u001b[38;5;124m'\u001b[39m\u001b[38;5;124mVHI\u001b[39m\u001b[38;5;124m'\u001b[39m, \u001b[38;5;124m'\u001b[39m\u001b[38;5;124mempty\u001b[39m\u001b[38;5;124m'\u001b[39m]\n\u001b[0;32m      6\u001b[0m all_data \u001b[38;5;241m=\u001b[39m []\n\u001b[1;32m----> 8\u001b[0m \u001b[38;5;28;01mfor\u001b[39;00m filename \u001b[38;5;129;01min\u001b[39;00m \u001b[43mos\u001b[49m\u001b[38;5;241;43m.\u001b[39;49m\u001b[43mlistdir\u001b[49m\u001b[43m(\u001b[49m\u001b[43mdirectory_path\u001b[49m\u001b[43m)\u001b[49m:\n\u001b[0;32m      9\u001b[0m     \u001b[38;5;28;01mif\u001b[39;00m filename\u001b[38;5;241m.\u001b[39mendswith(\u001b[38;5;124m\"\u001b[39m\u001b[38;5;124m.csv\u001b[39m\u001b[38;5;124m\"\u001b[39m):\n\u001b[0;32m     10\u001b[0m         file_path \u001b[38;5;241m=\u001b[39m os\u001b[38;5;241m.\u001b[39mpath\u001b[38;5;241m.\u001b[39mjoin(directory_path, filename)\n",
      "\u001b[1;31mFileNotFoundError\u001b[0m: [WinError 3] The system cannot find the path specified: 'C:\\\\Users\\\\angel\\\\OneDrive\\\\Робочий стіл\\\\123\\\\lab_2'"
     ]
    }
   ],
   "source": [
    "import pandas as pd\n",
    "import os\n",
    "def load_vhi_data_from_directory(directory_path):\n",
    "    columns = ['Year', 'Week', 'SMN', 'SMT', 'VCI', 'TCI', 'VHI', 'empty']\n",
    "    \n",
    "    all_data = []\n",
    "\n",
    "    for filename in os.listdir(directory_path):\n",
    "        if filename.endswith(\".csv\"):\n",
    "            file_path = os.path.join(directory_path, filename)\n",
    "            \n",
    "            df = pd.read_csv(file_path, header=1, names=columns)\n",
    "            df = df.drop(df[df['VHI'] == -1].index)\n",
    "        \n",
    "            province_id = filename.split('_')[2]\n",
    "            df['Province_ID'] = province_id\n",
    "                  \n",
    "        \n",
    "\n",
    "            df=df.drop(columns=['empty'])\n",
    "            df['Year']=df['Year'].str.replace('<tt><pre>', '')\n",
    "\n",
    "            df=df.dropna()\n",
    "\n",
    "            all_data.append(df)\n",
    "\n",
    "        \n",
    "    \n",
    "    combined_data = pd.concat(all_data, ignore_index=True)\n",
    "    \n",
    "    return combined_data\n",
    "\n",
    "directory = r'C:\\Users\\angel\\OneDrive\\Робочий стіл\\123\\lab_2'\n",
    "vhi_data = load_vhi_data_from_directory(directory)\n",
    "\n",
    "\n",
    "print(vhi_data.tail())\n"
   ]
  },
  {
   "cell_type": "markdown",
   "metadata": {},
   "source": [
    "# Task 4"
   ]
  },
  {
   "cell_type": "code",
   "execution_count": 68,
   "metadata": {},
   "outputs": [
    {
     "name": "stdout",
     "output_type": "stream",
     "text": [
      "Оновлені індекси областей:\n",
      "        Province_ID      Province_Name\n",
      "0               10     Кіровоградська\n",
      "6522            11          Луганська\n",
      "13044           12          Львівська\n",
      "19566           13       Миколаївська\n",
      "26088           14            Одеська\n",
      "32610           15         Полтавська\n",
      "39132           16          Рівенська\n",
      "45654           17            Сумська\n",
      "52176           18      Тернопільська\n",
      "58698           19         Харківська\n",
      "65220            1          Вінницька\n",
      "71742           20         Херсонська\n",
      "78264           21        Хмельницька\n",
      "84786           22          Черкаська\n",
      "91308           23        Чернівецька\n",
      "97830           24       Чернігівська\n",
      "104352          25    Республіка Крим\n",
      "110874           2          Волинська\n",
      "117396           3   Дніпропетровська\n",
      "123918           4           Донецька\n",
      "130440           5        Житомирська\n",
      "136962           6       Закарпатська\n",
      "143484           7         Запорізька\n",
      "150006           8  Івано-Франківська\n",
      "156528           9           Київська\n"
     ]
    }
   ],
   "source": [
    "\n",
    "province_mapping = {\n",
    "    '1': 'Вінницька', '2': 'Волинська', '3': 'Дніпропетровська', \n",
    "    '4': 'Донецька', '5': 'Житомирська', '6': 'Закарпатська', \n",
    "    '7': 'Запорізька', '8': 'Івано-Франківська', '9': 'Київська', \n",
    "    '10': 'Кіровоградська', '11': 'Луганська', '12': 'Львівська', \n",
    "    '13': 'Миколаївська', '14': 'Одеська', '15': 'Полтавська', \n",
    "    '16': 'Рівенська', '17': 'Сумська', '18': 'Тернопільська', \n",
    "    '19': 'Харківська', '20': 'Херсонська', '21': 'Хмельницька', \n",
    "    '22': 'Черкаська', '23': 'Чернівецька', '24': 'Чернігівська', \n",
    "    '25': 'Республіка Крим'\n",
    "}\n",
    "\n",
    "def update_province_indices(df):\n",
    "    df['Province_Name'] = df['Province_ID'].replace(province_mapping)\n",
    "    return df\n",
    "\n",
    "vhi_data = update_province_indices(vhi_data)\n",
    "print(\"Оновлені індекси областей:\\n\", vhi_data[['Province_ID', 'Province_Name']].drop_duplicates())"
   ]
  },
  {
   "cell_type": "markdown",
   "metadata": {},
   "source": [
    "## Task 5.1\n"
   ]
  },
  {
   "cell_type": "markdown",
   "metadata": {},
   "source": [
    "Ряд VHI для області за вказаний рік;"
   ]
  },
  {
   "cell_type": "code",
   "execution_count": 69,
   "metadata": {},
   "outputs": [],
   "source": [
    "def vhi_region(index_region, year):\n",
    "    result = vhi_data[(vhi_data['Province_ID'] == index_region) & (vhi_data['Year'] == year)][['Year', 'VHI', 'Province_ID']]\n",
    "    return result\n"
   ]
  },
  {
   "cell_type": "code",
   "execution_count": 70,
   "metadata": {},
   "outputs": [
    {
     "name": "stdout",
     "output_type": "stream",
     "text": [
      "       Year    VHI Province_ID\n",
      "27235  2005  72.33          14\n",
      "27236  2005  73.85          14\n",
      "27237  2005  73.49          14\n",
      "27238  2005  72.25          14\n",
      "27239  2005  69.86          14\n",
      "...     ...    ...         ...\n",
      "31629  2005  36.83          14\n",
      "31630  2005  38.98          14\n",
      "31631  2005  39.76          14\n",
      "31632  2005  41.39          14\n",
      "31633  2005  43.90          14\n",
      "\n",
      "[153 rows x 3 columns]\n"
     ]
    }
   ],
   "source": [
    "print(vhi_region(\"14\", \"2005\"))"
   ]
  },
  {
   "cell_type": "markdown",
   "metadata": {},
   "source": [
    "## Task 5.2"
   ]
  },
  {
   "cell_type": "markdown",
   "metadata": {},
   "source": [
    "Пошук екстремумів (min та max) для вказаних областей та років,\n",
    "середнього, медіани;"
   ]
  },
  {
   "cell_type": "code",
   "execution_count": 71,
   "metadata": {},
   "outputs": [
    {
     "name": "stdout",
     "output_type": "stream",
     "text": [
      "Extremes:\n",
      "Min: 6.26\n",
      "Max: 96.18\n",
      "Mean: 47.14389692585895\n",
      "Median: 45.504999999999995\n"
     ]
    }
   ],
   "source": [
    "def extreme(year, regions):\n",
    "    vhi_data['Year'] = pd.to_numeric(vhi_data['Year'], errors='coerce')\n",
    "    vhi_data['Province_ID'] = pd.to_numeric(vhi_data['Province_ID'], errors='coerce')\n",
    "    data = vhi_data[(vhi_data['Year'] >= year[0]) & \n",
    "                    (vhi_data['Year'] <= year[1]) & \n",
    "                    (vhi_data['Province_ID'] >= regions[0]) & \n",
    "                    (vhi_data['Province_ID'] <= regions[1])]\n",
    "\n",
    "    min_v = data['VHI'].min()\n",
    "    max_v = data['VHI'].max()\n",
    "    mean_v = data['VHI'].mean()\n",
    "    median_v = data['VHI'].median()\n",
    "\n",
    "    return (f\"Extremes:\\nMin: {min_v}\\nMax: {max_v}\\nMean: {mean_v}\\nMedian: {median_v}\")\n",
    "\n",
    "\n",
    "print(extreme([1990, 2000], [5, 10]))\n"
   ]
  },
  {
   "cell_type": "markdown",
   "metadata": {},
   "source": [
    "## Task 5.3"
   ]
  },
  {
   "cell_type": "markdown",
   "metadata": {},
   "source": [
    "Ряд VHI за вказаний діапазон років для вказаних областей;"
   ]
  },
  {
   "cell_type": "code",
   "execution_count": 72,
   "metadata": {},
   "outputs": [
    {
     "name": "stdout",
     "output_type": "stream",
     "text": [
      "        Year    VHI  Province_ID\n",
      "124827  2000  36.23            4\n",
      "124826  2000  35.84            4\n",
      "124825  2000  35.78            4\n",
      "129385  2004  51.14            4\n",
      "129384  2004  50.47            4\n",
      "...      ...    ...          ...\n",
      "18508   2004  70.56           12\n",
      "18507   2004  74.02           12\n",
      "13952   2000  25.44           12\n",
      "13951   2000  23.11           12\n",
      "13950   2000  18.21           12\n",
      "\n",
      "[6507 rows x 3 columns]\n"
     ]
    }
   ],
   "source": [
    "def range(year, region):\n",
    "    \n",
    "    data = vhi_data[(vhi_data['Year'] >= year[0]) & (vhi_data['Year'] <= year[1]) & \n",
    "                    (vhi_data['Province_ID'] >= region[0]) & (vhi_data['Province_ID'] <= region[1])]\n",
    "    \n",
    "    filtered_data = data.sort_values(by=\"Province_ID\")\n",
    "    return filtered_data [['Year','VHI','Province_ID']]\n",
    "\n",
    "print(range([2000, 2004], [4, 12]))"
   ]
  },
  {
   "cell_type": "markdown",
   "metadata": {},
   "source": [
    "## Task 5.4"
   ]
  },
  {
   "cell_type": "markdown",
   "metadata": {},
   "source": [
    "Для всього набору даних виявити роки, протягом яких екстремальні\n",
    "посухи торкнулися більше вказаного відсотка областей по Україні (20%\n",
    "областей - 5 областей з 25). Повернути роки, назви областей з\n",
    "екстремальними посухами та значення VHI;"
   ]
  },
  {
   "cell_type": "code",
   "execution_count": 73,
   "metadata": {},
   "outputs": [],
   "source": [
    "def droughts(vhi_data, percent):\n",
    "\n",
    "    count = int((percent * 25) / 100)\n",
    "    drought = vhi_data[(vhi_data['VHI'] < 15)&(vhi_data['VHI']!=-1)]\n",
    "    number_of_regions = drought.groupby(by='Year')['Province_ID'].count()\n",
    "    years_d = number_of_regions[number_of_regions > count].index\n",
    "    \n",
    "    result = drought[drought['Year'].isin(years_d)][['Year', 'Province_ID', 'VHI']]\n",
    "    return result\n",
    "\n"
   ]
  },
  {
   "cell_type": "code",
   "execution_count": 74,
   "metadata": {},
   "outputs": [
    {
     "name": "stdout",
     "output_type": "stream",
     "text": [
      "        Year  Province_ID    VHI\n",
      "7471    2000           11  12.51\n",
      "7472    2000           11  10.60\n",
      "7473    2000           11  11.20\n",
      "7474    2000           11  12.32\n",
      "7475    2000           11  14.65\n",
      "...      ...          ...    ...\n",
      "162154  2007            9  12.96\n",
      "162155  2007            9  13.48\n",
      "162156  2007            9  14.05\n",
      "162157  2007            9  14.41\n",
      "162158  2007            9  14.81\n",
      "\n",
      "[309 rows x 3 columns]\n"
     ]
    }
   ],
   "source": [
    "print(droughts(vhi_data, 20))"
   ]
  },
  {
   "cell_type": "code",
   "execution_count": 2,
   "metadata": {},
   "outputs": [
    {
     "name": "stderr",
     "output_type": "stream",
     "text": [
      "WARNING:root:Warning: unable to set defaultencoding to utf-8\n"
     ]
    }
   ],
   "source": [
    "import pandas as pd\n",
    "import requests\n",
    "from spyre import server\n",
    "\n",
    "import __main__ as main\n",
    "main.__file__ = \"main_file\"\n",
    "\n",
    "class SimpleApp(server.App):\n",
    "    title = \"NOAA Data Visualization\"\n",
    "    \n",
    "    \n",
    "    inputs = [\n",
    "        {\n",
    "            \"type\": \"dropdown\",\n",
    "            \"label\": \"NOAA data dropdown\",\n",
    "            \"options\": [\n",
    "                {\"label\": \"VCI\", \"value\": \"VCI\"},\n",
    "                {\"label\": \"TCI\", \"value\": \"TCI\"},\n",
    "                {\"label\": \"VHI\", \"value\": \"VHI\"},\n",
    "            ],\n",
    "            \"key\": \"data_type\",\n",
    "            \"value\": \"VHI\",\n",
    "            \"action_id\": \"update_data\"\n",
    "        },\n",
    "        {\n",
    "            \"type\": \"dropdown\",\n",
    "            \"label\": \"Region\",\n",
    "            \"options\": [\n",
    "                 {\"label\": \"1: Cherkasy\", \"value\": 1},\n",
    "                {\"label\": \"2: Chernivtsi\", \"value\": 2},\n",
    "                {\"label\": \"3: Chernihiv\", \"value\": 3},\n",
    "                {\"label\": \"4: Crimea\", \"value\": 4},\n",
    "                {\"label\": \"5: Dnipropetrovsk\", \"value\": 5},\n",
    "                {\"label\": \"6: Donetsk\", \"value\": 6},\n",
    "                {\"label\": \"7: Ivano-Frankivsk\", \"value\": 7},\n",
    "                {\"label\": \"8: Kharkiv\", \"value\": 8},\n",
    "                {\"label\": \"9: Kherson\", \"value\": 9},\n",
    "                {\"label\": \"10: Khmelnytsky\", \"value\": 10},\n",
    "                {\"label\": \"11: Kiev\", \"value\": 11},\n",
    "                {\"label\": \"12: Kiev City\", \"value\": 12},\n",
    "                {\"label\": \"13: Kirovohrad\", \"value\": 13},\n",
    "                {\"label\": \"14: Luhansk\", \"value\": 14},\n",
    "                {\"label\": \"15: Lviv\", \"value\": 15},\n",
    "                {\"label\": \"16: Mykolaiv\", \"value\": 16},\n",
    "                {\"label\": \"17: Odessa\", \"value\": 17},\n",
    "                {\"label\": \"18: Poltava\", \"value\": 18},\n",
    "                {\"label\": \"19: Rivne\", \"value\": 19},\n",
    "                {\"label\": \"20: Sevastopol\", \"value\": 20},\n",
    "                {\"label\": \"21: Sumy\", \"value\": 21},\n",
    "                {\"label\": \"22: Ternopil\", \"value\": 22},\n",
    "                {\"label\": \"23: Transcarpathia\", \"value\": 23},\n",
    "                {\"label\": \"24: Vinnytsya\", \"value\": 24},\n",
    "                {\"label\": \"25: Volyn\", \"value\": 25},\n",
    "                {\"label\": \"26: Zaporizhzhya\", \"value\": 26},\n",
    "            ],\n",
    "            \"key\": \"region\",\n",
    "            \"value\": 1,\n",
    "            \"action_id\": \"update_data\"\n",
    "        },\n",
    "{\n",
    "     \"type\": \"slider\",\n",
    "    \"label\": \"Start Year\",\n",
    "     \"min\": 1982,\n",
    "    \"max\": 2024,\n",
    "    \"value\": 1995,\n",
    "    \"key\": \"start_year\",\n",
    "    \"action_id\": \"update_data\"\n",
    "        },\n",
    "        {\n",
    "    \"type\": \"slider\",\n",
    "    \"label\": \"End Year\",\n",
    "    \"min\": 1982,\n",
    "    \"max\": 2024,\n",
    "    \"value\": 1996,\n",
    "    \"key\": \"end_year\",\n",
    "    \"action_id\": \"update_data\"\n",
    "        },\n",
    "        {\n",
    "     \"type\": \"text\",\n",
    "    \"label\": \"Specify the weekly interval (e.g., 1,4)\",\n",
    "     \"value\": \"1,4\",\n",
    "    \"key\": \"week_interval\",\n",
    "    \"action_id\": \"update_data\"\n",
    "        }\n",
    "    ]\n",
    "controls = [{\n",
    "    \"control_type\": \"hidden\",\n",
    "    \"label\": \"NOAA\",\n",
    "    \"control_id\": \"update_data\"\n",
    "}]\n",
    "\n",
    "tabs = [\"Plot\", \"Table\"]\n",
    "\n",
    "outputs = [\n",
    "        {\n",
    "            \"type\": \"plot\",\n",
    "            \"id\": \"plot\",\n",
    "            \"control_id\": \"update_data\",\n",
    "            \"tab\": \"Plot\"\n",
    "        },\n",
    "        {\n",
    "            \"type\": \"table\",\n",
    "            \"id\": \"table\",\n",
    "            \"control_id\": \"update_data\",\n",
    "            \"tab\": \"Table\"\n",
    "        }\n",
    "    ]\n",
    "\n",
    "tabs = [\"Plot\", \"Table\"]\n",
    "\n",
    "    \n",
    "def get_data(self, params):\n",
    "        region_id = params[\"region\"]\n",
    "        data_type = params[\"data_type\"]\n",
    "        start_year = params[\"start_year\"]\n",
    "        end_year = params[\"end_year\"]\n",
    "        week_interval = list(map(int, params[\"week_interval\"].split(',')))\n",
    "        \n",
    "       \n",
    "        url = f\"https://www.star.nesdis.noaa.gov/smcd/emb/vci/VH/get_TS_admin.php?country=UKR&provinceID={region_id}&year1={start_year}&year2={end_year}&type=Mean\"\n",
    "        response = requests.get(url)\n",
    "        data = pd.read_csv(pd.compat.StringIO(response.text), index_col=False)\n",
    "        \n",
    "\n",
    "        data = data[(data['week'] >= week_interval[0]) & (data['week'] <= week_interval[1])]\n",
    "        \n",
    "        return data[[\"year\", \"week\", data_type]]\n",
    "\n",
    "  \n",
    "def plot(self, params):\n",
    "        data = self.get_data(params)\n",
    "        data = data.set_index(['year', 'week'])\n",
    "        plot = data[params[\"data_type\"]].plot(title=\"NOAA Data Visualization\", legend=True)\n",
    "        plot.set_ylabel(params[\"data_type\"])\n",
    "        return plot.figure\n",
    "\n",
    "\n",
    "\n"
   ]
  },
  {
   "cell_type": "code",
   "execution_count": 3,
   "metadata": {},
   "outputs": [
    {
     "name": "stderr",
     "output_type": "stream",
     "text": [
      "[06/Nov/2024:19:38:57] ENGINE Listening for SIGTERM.\n",
      "INFO:cherrypy.error:[06/Nov/2024:19:38:57] ENGINE Listening for SIGTERM.\n",
      "[06/Nov/2024:19:38:57] ENGINE Bus STARTING\n",
      "INFO:cherrypy.error:[06/Nov/2024:19:38:57] ENGINE Bus STARTING\n",
      "[06/Nov/2024:19:38:57] ENGINE Set handler for console events.\n",
      "INFO:cherrypy.error:[06/Nov/2024:19:38:57] ENGINE Set handler for console events.\n",
      "CherryPy Checker:\n",
      "The Application mounted at '' has an empty config.\n",
      "\n",
      "[06/Nov/2024:19:38:57] ENGINE Started monitor thread 'Autoreloader'.\n",
      "INFO:cherrypy.error:[06/Nov/2024:19:38:57] ENGINE Started monitor thread 'Autoreloader'.\n",
      "[06/Nov/2024:19:38:58] ENGINE Error in 'start' listener <bound method Server.start of <cherrypy._cpserver.Server object at 0x000002D212F11810>>\n",
      "Traceback (most recent call last):\n",
      "  File \"c:\\Users\\При Ватан Го\\AppData\\Local\\Programs\\Python\\Python311\\Lib\\site-packages\\portend.py\", line 122, in free\n",
      "    Checker(timeout=0.1).assert_free(host, port)\n",
      "  File \"c:\\Users\\При Ватан Го\\AppData\\Local\\Programs\\Python\\Python311\\Lib\\site-packages\\portend.py\", line 71, in assert_free\n",
      "    list(itertools.starmap(self._connect, info))\n",
      "  File \"c:\\Users\\При Ватан Го\\AppData\\Local\\Programs\\Python\\Python311\\Lib\\site-packages\\portend.py\", line 87, in _connect\n",
      "    raise PortNotFree(tmpl.format(**locals()))\n",
      "portend.PortNotFree: Port 8080 is in use on 127.0.0.1.\n",
      "\n",
      "During handling of the above exception, another exception occurred:\n",
      "\n",
      "Traceback (most recent call last):\n",
      "  File \"c:\\Users\\При Ватан Го\\AppData\\Local\\Programs\\Python\\Python311\\Lib\\site-packages\\cherrypy\\process\\wspbus.py\", line 229, in publish\n",
      "    output.append(listener(*args, **kwargs))\n",
      "                  ^^^^^^^^^^^^^^^^^^^^^^^^^\n",
      "  File \"c:\\Users\\При Ватан Го\\AppData\\Local\\Programs\\Python\\Python311\\Lib\\site-packages\\cherrypy\\_cpserver.py\", line 191, in start\n",
      "    super(Server, self).start()\n",
      "  File \"c:\\Users\\При Ватан Го\\AppData\\Local\\Programs\\Python\\Python311\\Lib\\site-packages\\cherrypy\\process\\servers.py\", line 176, in start\n",
      "    portend.free(*self.bind_addr, timeout=Timeouts.free)\n",
      "  File \"c:\\Users\\При Ватан Го\\AppData\\Local\\Programs\\Python\\Python311\\Lib\\site-packages\\portend.py\", line 126, in free\n",
      "    raise Timeout(\"Port {port} not free on {host}.\".format(**locals()))\n",
      "portend.Timeout: Port 8080 not free on 127.0.0.1.\n",
      "\n",
      "ERROR:cherrypy.error:[06/Nov/2024:19:38:58] ENGINE Error in 'start' listener <bound method Server.start of <cherrypy._cpserver.Server object at 0x000002D212F11810>>\n",
      "Traceback (most recent call last):\n",
      "  File \"c:\\Users\\При Ватан Го\\AppData\\Local\\Programs\\Python\\Python311\\Lib\\site-packages\\portend.py\", line 122, in free\n",
      "    Checker(timeout=0.1).assert_free(host, port)\n",
      "  File \"c:\\Users\\При Ватан Го\\AppData\\Local\\Programs\\Python\\Python311\\Lib\\site-packages\\portend.py\", line 71, in assert_free\n",
      "    list(itertools.starmap(self._connect, info))\n",
      "  File \"c:\\Users\\При Ватан Го\\AppData\\Local\\Programs\\Python\\Python311\\Lib\\site-packages\\portend.py\", line 87, in _connect\n",
      "    raise PortNotFree(tmpl.format(**locals()))\n",
      "portend.PortNotFree: Port 8080 is in use on 127.0.0.1.\n",
      "\n",
      "During handling of the above exception, another exception occurred:\n",
      "\n",
      "Traceback (most recent call last):\n",
      "  File \"c:\\Users\\При Ватан Го\\AppData\\Local\\Programs\\Python\\Python311\\Lib\\site-packages\\cherrypy\\process\\wspbus.py\", line 229, in publish\n",
      "    output.append(listener(*args, **kwargs))\n",
      "                  ^^^^^^^^^^^^^^^^^^^^^^^^^\n",
      "  File \"c:\\Users\\При Ватан Го\\AppData\\Local\\Programs\\Python\\Python311\\Lib\\site-packages\\cherrypy\\_cpserver.py\", line 191, in start\n",
      "    super(Server, self).start()\n",
      "  File \"c:\\Users\\При Ватан Го\\AppData\\Local\\Programs\\Python\\Python311\\Lib\\site-packages\\cherrypy\\process\\servers.py\", line 176, in start\n",
      "    portend.free(*self.bind_addr, timeout=Timeouts.free)\n",
      "  File \"c:\\Users\\При Ватан Го\\AppData\\Local\\Programs\\Python\\Python311\\Lib\\site-packages\\portend.py\", line 126, in free\n",
      "    raise Timeout(\"Port {port} not free on {host}.\".format(**locals()))\n",
      "portend.Timeout: Port 8080 not free on 127.0.0.1.\n",
      "\n",
      "[06/Nov/2024:19:38:58] ENGINE Shutting down due to error in start listener:\n",
      "Traceback (most recent call last):\n",
      "  File \"c:\\Users\\При Ватан Го\\AppData\\Local\\Programs\\Python\\Python311\\Lib\\site-packages\\cherrypy\\process\\wspbus.py\", line 267, in start\n",
      "    self.publish('start')\n",
      "  File \"c:\\Users\\При Ватан Го\\AppData\\Local\\Programs\\Python\\Python311\\Lib\\site-packages\\cherrypy\\process\\wspbus.py\", line 247, in publish\n",
      "    raise exc\n",
      "cherrypy.process.wspbus.ChannelFailures: Timeout('Port 8080 not free on 127.0.0.1.')\n",
      "\n",
      "ERROR:cherrypy.error:[06/Nov/2024:19:38:58] ENGINE Shutting down due to error in start listener:\n",
      "Traceback (most recent call last):\n",
      "  File \"c:\\Users\\При Ватан Го\\AppData\\Local\\Programs\\Python\\Python311\\Lib\\site-packages\\cherrypy\\process\\wspbus.py\", line 267, in start\n",
      "    self.publish('start')\n",
      "  File \"c:\\Users\\При Ватан Го\\AppData\\Local\\Programs\\Python\\Python311\\Lib\\site-packages\\cherrypy\\process\\wspbus.py\", line 247, in publish\n",
      "    raise exc\n",
      "cherrypy.process.wspbus.ChannelFailures: Timeout('Port 8080 not free on 127.0.0.1.')\n",
      "\n",
      "[06/Nov/2024:19:38:58] ENGINE Bus STOPPING\n",
      "INFO:cherrypy.error:[06/Nov/2024:19:38:58] ENGINE Bus STOPPING\n",
      "[06/Nov/2024:19:38:58] ENGINE HTTP Server cherrypy._cpwsgi_server.CPWSGIServer(('127.0.0.1', 8080)) already shut down\n",
      "INFO:cherrypy.error:[06/Nov/2024:19:38:58] ENGINE HTTP Server cherrypy._cpwsgi_server.CPWSGIServer(('127.0.0.1', 8080)) already shut down\n",
      "[06/Nov/2024:19:38:58] ENGINE Stopped thread 'Autoreloader'.\n",
      "INFO:cherrypy.error:[06/Nov/2024:19:38:58] ENGINE Stopped thread 'Autoreloader'.\n",
      "[06/Nov/2024:19:38:58] ENGINE Removed handler for console events.\n",
      "INFO:cherrypy.error:[06/Nov/2024:19:38:58] ENGINE Removed handler for console events.\n",
      "[06/Nov/2024:19:38:58] ENGINE Bus STOPPED\n",
      "INFO:cherrypy.error:[06/Nov/2024:19:38:58] ENGINE Bus STOPPED\n",
      "[06/Nov/2024:19:38:58] ENGINE Bus EXITING\n",
      "INFO:cherrypy.error:[06/Nov/2024:19:38:58] ENGINE Bus EXITING\n",
      "[06/Nov/2024:19:38:58] ENGINE Bus EXITED\n"
     ]
    },
    {
     "ename": "",
     "evalue": "",
     "output_type": "error",
     "traceback": [
      "\u001b[1;31mThe Kernel crashed while executing code in the current cell or a previous cell. \n",
      "\u001b[1;31mPlease review the code in the cell(s) to identify a possible cause of the failure. \n",
      "\u001b[1;31mClick <a href='https://aka.ms/vscodeJupyterKernelCrash'>here</a> for more info. \n",
      "\u001b[1;31mView Jupyter <a href='command:jupyter.viewOutput'>log</a> for further details."
     ]
    }
   ],
   "source": [
    "app = SimpleApp()\n",
    "app.launch(port=8080)"
   ]
  }
 ],
 "metadata": {
  "kernelspec": {
   "display_name": "Python 3",
   "language": "python",
   "name": "python3"
  },
  "language_info": {
   "codemirror_mode": {
    "name": "ipython",
    "version": 3
   },
   "file_extension": ".py",
   "mimetype": "text/x-python",
   "name": "python",
   "nbconvert_exporter": "python",
   "pygments_lexer": "ipython3",
   "version": "3.11.4"
  }
 },
 "nbformat": 4,
 "nbformat_minor": 2
}
